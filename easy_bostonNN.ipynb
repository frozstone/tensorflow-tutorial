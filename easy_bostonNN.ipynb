{
 "cells": [
  {
   "cell_type": "code",
   "execution_count": 1,
   "metadata": {
    "collapsed": true
   },
   "outputs": [],
   "source": [
    "from __future__ import absolute_import\n",
    "from __future__ import division\n",
    "from __future__ import print_function\n",
    "import pandas as pd\n",
    "import tensorflow as tf"
   ]
  },
  {
   "cell_type": "code",
   "execution_count": 2,
   "metadata": {
    "collapsed": true
   },
   "outputs": [],
   "source": [
    "tf.logging.set_verbosity(tf.logging.INFO)"
   ]
  },
  {
   "cell_type": "code",
   "execution_count": 3,
   "metadata": {
    "collapsed": true
   },
   "outputs": [],
   "source": [
    "COLS = [\"crim\", \"zn\", \"indus\", \"nox\", \"rm\", \"age\", \"dis\", \"tax\", \"ptratio\", \"medv\"]\n",
    "FEATS = [\"crim\", \"zn\", \"indus\", \"nox\", \"rm\", \"age\", \"dis\", \"tax\", \"ptratio\"]\n",
    "LABEL = \"medv\"\n",
    "\n",
    "tr_set = pd.read_csv(\"dataset/boston_train.csv\", skipinitialspace=True, skiprows=1, names=COLS)\n",
    "ts_set = pd.read_csv(\"dataset/boston_test.csv\", skipinitialspace=True, skiprows=1, names=COLS)\n",
    "pr_set = pd.read_csv(\"dataset/boston_predict.csv\", skipinitialspace=True, skiprows=1, names=COLS)"
   ]
  },
  {
   "cell_type": "code",
   "execution_count": 4,
   "metadata": {
    "collapsed": true
   },
   "outputs": [],
   "source": [
    "feature_cols = [tf.contrib.layers.real_valued_column(k) for k in FEATS]"
   ]
  },
  {
   "cell_type": "code",
   "execution_count": 5,
   "metadata": {},
   "outputs": [
    {
     "name": "stdout",
     "output_type": "stream",
     "text": [
      "WARNING:tensorflow:Using temporary folder as model directory: /tmp/tmpeMv5iL\n",
      "INFO:tensorflow:Using default config.\n",
      "INFO:tensorflow:Using config: {'save_summary_steps': 100, '_num_ps_replicas': 0, '_task_type': None, '_environment': 'local', '_is_chief': True, 'save_checkpoints_secs': 600, '_cluster_spec': <tensorflow.python.training.server_lib.ClusterSpec object at 0x7fb5342a5850>, 'tf_config': gpu_options {\n",
      "  per_process_gpu_memory_fraction: 1.0\n",
      "}\n",
      ", '_task_id': 0, 'tf_random_seed': None, 'keep_checkpoint_every_n_hours': 10000, '_evaluation_master': '', 'save_checkpoints_steps': None, '_master': '', 'keep_checkpoint_max': 5}\n"
     ]
    }
   ],
   "source": [
    "regressor = tf.contrib.learn.DNNRegressor(feature_columns=feature_cols, hidden_units=[10,10])"
   ]
  },
  {
   "cell_type": "code",
   "execution_count": 6,
   "metadata": {
    "collapsed": true
   },
   "outputs": [],
   "source": [
    "def input_fn(dataset):\n",
    "    feature_cols = {k:tf.constant(dataset[k].values) for k in FEATS}\n",
    "    labels = tf.constant(dataset[LABEL].values)\n",
    "    return feature_cols, labels"
   ]
  },
  {
   "cell_type": "code",
   "execution_count": 7,
   "metadata": {},
   "outputs": [
    {
     "name": "stdout",
     "output_type": "stream",
     "text": [
      "WARNING:tensorflow:Rank of input Tensor (1) should be the same as output_rank (2) for column. Will attempt to expand dims. It is highly recommended that you resize your input, as this behavior may change.\n",
      "WARNING:tensorflow:Rank of input Tensor (1) should be the same as output_rank (2) for column. Will attempt to expand dims. It is highly recommended that you resize your input, as this behavior may change.\n",
      "WARNING:tensorflow:Rank of input Tensor (1) should be the same as output_rank (2) for column. Will attempt to expand dims. It is highly recommended that you resize your input, as this behavior may change.\n",
      "WARNING:tensorflow:Rank of input Tensor (1) should be the same as output_rank (2) for column. Will attempt to expand dims. It is highly recommended that you resize your input, as this behavior may change.\n",
      "WARNING:tensorflow:Rank of input Tensor (1) should be the same as output_rank (2) for column. Will attempt to expand dims. It is highly recommended that you resize your input, as this behavior may change.\n",
      "WARNING:tensorflow:Rank of input Tensor (1) should be the same as output_rank (2) for column. Will attempt to expand dims. It is highly recommended that you resize your input, as this behavior may change.\n",
      "WARNING:tensorflow:Rank of input Tensor (1) should be the same as output_rank (2) for column. Will attempt to expand dims. It is highly recommended that you resize your input, as this behavior may change.\n",
      "WARNING:tensorflow:Rank of input Tensor (1) should be the same as output_rank (2) for column. Will attempt to expand dims. It is highly recommended that you resize your input, as this behavior may change.\n",
      "WARNING:tensorflow:Rank of input Tensor (1) should be the same as output_rank (2) for column. Will attempt to expand dims. It is highly recommended that you resize your input, as this behavior may change.\n",
      "INFO:tensorflow:Summary name dnn/hiddenlayer_0:fraction_of_zero_values is illegal; using dnn/hiddenlayer_0_fraction_of_zero_values instead.\n",
      "INFO:tensorflow:Summary name dnn/hiddenlayer_0:activation is illegal; using dnn/hiddenlayer_0_activation instead.\n",
      "INFO:tensorflow:Summary name dnn/hiddenlayer_1:fraction_of_zero_values is illegal; using dnn/hiddenlayer_1_fraction_of_zero_values instead.\n",
      "INFO:tensorflow:Summary name dnn/hiddenlayer_1:activation is illegal; using dnn/hiddenlayer_1_activation instead.\n",
      "INFO:tensorflow:Summary name logits:fraction_of_zero_values is illegal; using logits_fraction_of_zero_values instead.\n",
      "INFO:tensorflow:Summary name logits:activation is illegal; using logits_activation instead.\n",
      "INFO:tensorflow:Create CheckpointSaverHook.\n",
      "INFO:tensorflow:loss = 19262.0, step = 1\n",
      "INFO:tensorflow:Saving checkpoints for 1 into /tmp/tmpeMv5iL/model.ckpt.\n",
      "WARNING:tensorflow:*******************************************************\n",
      "WARNING:tensorflow:TensorFlow's V1 checkpoint format has been deprecated.\n",
      "WARNING:tensorflow:Consider switching to the more efficient V2 format:\n",
      "WARNING:tensorflow:   `tf.train.Saver(write_version=tf.train.SaverDef.V2)`\n",
      "WARNING:tensorflow:now on by default.\n",
      "WARNING:tensorflow:*******************************************************\n",
      "INFO:tensorflow:loss = 104.961, step = 101\n",
      "INFO:tensorflow:global_step/sec: 152.734\n",
      "INFO:tensorflow:loss = 96.382, step = 201\n",
      "INFO:tensorflow:global_step/sec: 185.96\n",
      "INFO:tensorflow:loss = 90.9742, step = 301\n",
      "INFO:tensorflow:global_step/sec: 180.499\n",
      "INFO:tensorflow:loss = 86.9363, step = 401\n",
      "INFO:tensorflow:global_step/sec: 192.191\n",
      "INFO:tensorflow:loss = 83.7307, step = 501\n",
      "INFO:tensorflow:global_step/sec: 190.31\n",
      "INFO:tensorflow:loss = 81.0478, step = 601\n",
      "INFO:tensorflow:global_step/sec: 198.082\n",
      "INFO:tensorflow:loss = 78.7741, step = 701\n",
      "INFO:tensorflow:global_step/sec: 190.391\n",
      "INFO:tensorflow:loss = 76.8229, step = 801\n",
      "INFO:tensorflow:global_step/sec: 199.087\n",
      "INFO:tensorflow:loss = 75.1182, step = 901\n",
      "INFO:tensorflow:global_step/sec: 187.33\n",
      "INFO:tensorflow:loss = 73.6208, step = 1001\n",
      "INFO:tensorflow:global_step/sec: 198.558\n",
      "INFO:tensorflow:loss = 72.2826, step = 1101\n",
      "INFO:tensorflow:global_step/sec: 193.042\n",
      "INFO:tensorflow:loss = 71.087, step = 1201\n",
      "INFO:tensorflow:global_step/sec: 194.909\n",
      "INFO:tensorflow:loss = 69.9892, step = 1301\n",
      "INFO:tensorflow:global_step/sec: 194.559\n",
      "INFO:tensorflow:loss = 68.9579, step = 1401\n",
      "INFO:tensorflow:global_step/sec: 192.085\n",
      "INFO:tensorflow:loss = 67.9415, step = 1501\n",
      "INFO:tensorflow:global_step/sec: 196.329\n",
      "INFO:tensorflow:loss = 66.9741, step = 1601\n",
      "INFO:tensorflow:global_step/sec: 202.336\n",
      "INFO:tensorflow:loss = 66.0851, step = 1701\n",
      "INFO:tensorflow:global_step/sec: 189.1\n",
      "INFO:tensorflow:loss = 65.228, step = 1801\n",
      "INFO:tensorflow:global_step/sec: 185.418\n",
      "INFO:tensorflow:loss = 64.3943, step = 1901\n",
      "INFO:tensorflow:global_step/sec: 184.276\n",
      "INFO:tensorflow:loss = 63.4038, step = 2001\n",
      "INFO:tensorflow:global_step/sec: 190.878\n",
      "INFO:tensorflow:loss = 62.5099, step = 2101\n",
      "INFO:tensorflow:global_step/sec: 206.146\n",
      "INFO:tensorflow:loss = 61.5989, step = 2201\n",
      "INFO:tensorflow:global_step/sec: 197.144\n",
      "INFO:tensorflow:loss = 60.7311, step = 2301\n",
      "INFO:tensorflow:global_step/sec: 196.009\n",
      "INFO:tensorflow:loss = 59.8859, step = 2401\n",
      "INFO:tensorflow:global_step/sec: 204.379\n",
      "INFO:tensorflow:loss = 59.0494, step = 2501\n",
      "INFO:tensorflow:global_step/sec: 199.5\n",
      "INFO:tensorflow:loss = 58.2194, step = 2601\n",
      "INFO:tensorflow:global_step/sec: 184.338\n",
      "INFO:tensorflow:loss = 57.3867, step = 2701\n",
      "INFO:tensorflow:global_step/sec: 192.776\n",
      "INFO:tensorflow:loss = 56.5265, step = 2801\n",
      "INFO:tensorflow:global_step/sec: 188.477\n",
      "INFO:tensorflow:loss = 55.6799, step = 2901\n",
      "INFO:tensorflow:global_step/sec: 192.042\n",
      "INFO:tensorflow:loss = 54.8453, step = 3001\n",
      "INFO:tensorflow:global_step/sec: 198.844\n",
      "INFO:tensorflow:loss = 54.0223, step = 3101\n",
      "INFO:tensorflow:global_step/sec: 193.855\n",
      "INFO:tensorflow:loss = 53.2008, step = 3201\n",
      "INFO:tensorflow:global_step/sec: 196.317\n",
      "INFO:tensorflow:loss = 52.4022, step = 3301\n",
      "INFO:tensorflow:global_step/sec: 197.528\n",
      "INFO:tensorflow:loss = 51.5973, step = 3401\n",
      "INFO:tensorflow:global_step/sec: 192.983\n",
      "INFO:tensorflow:loss = 50.8048, step = 3501\n",
      "INFO:tensorflow:global_step/sec: 198.923\n",
      "INFO:tensorflow:loss = 49.9158, step = 3601\n",
      "INFO:tensorflow:global_step/sec: 204.776\n",
      "INFO:tensorflow:loss = 48.2226, step = 3701\n",
      "INFO:tensorflow:global_step/sec: 191.237\n",
      "INFO:tensorflow:loss = 47.1629, step = 3801\n",
      "INFO:tensorflow:global_step/sec: 191.349\n",
      "INFO:tensorflow:loss = 46.2968, step = 3901\n",
      "INFO:tensorflow:global_step/sec: 202.248\n",
      "INFO:tensorflow:loss = 45.4789, step = 4001\n",
      "INFO:tensorflow:global_step/sec: 192.524\n",
      "INFO:tensorflow:loss = 44.4972, step = 4101\n",
      "INFO:tensorflow:global_step/sec: 194.119\n",
      "INFO:tensorflow:loss = 43.5894, step = 4201\n",
      "INFO:tensorflow:global_step/sec: 192.988\n",
      "INFO:tensorflow:loss = 42.8355, step = 4301\n",
      "INFO:tensorflow:global_step/sec: 195.487\n",
      "INFO:tensorflow:loss = 42.1377, step = 4401\n",
      "INFO:tensorflow:global_step/sec: 197.743\n",
      "INFO:tensorflow:loss = 41.497, step = 4501\n",
      "INFO:tensorflow:global_step/sec: 198.849\n",
      "INFO:tensorflow:loss = 40.8836, step = 4601\n",
      "INFO:tensorflow:global_step/sec: 193.192\n",
      "INFO:tensorflow:loss = 40.3098, step = 4701\n",
      "INFO:tensorflow:global_step/sec: 198.246\n",
      "INFO:tensorflow:loss = 39.7722, step = 4801\n",
      "INFO:tensorflow:global_step/sec: 197.912\n",
      "INFO:tensorflow:loss = 39.2665, step = 4901\n",
      "INFO:tensorflow:global_step/sec: 197.339\n",
      "INFO:tensorflow:Saving checkpoints for 5000 into /tmp/tmpeMv5iL/model.ckpt.\n",
      "WARNING:tensorflow:*******************************************************\n",
      "WARNING:tensorflow:TensorFlow's V1 checkpoint format has been deprecated.\n",
      "WARNING:tensorflow:Consider switching to the more efficient V2 format:\n",
      "WARNING:tensorflow:   `tf.train.Saver(write_version=tf.train.SaverDef.V2)`\n",
      "WARNING:tensorflow:now on by default.\n",
      "WARNING:tensorflow:*******************************************************\n",
      "INFO:tensorflow:Loss for final step: 38.7954.\n"
     ]
    },
    {
     "data": {
      "text/plain": [
       "DNNRegressor(hidden_units=[10, 10], dropout=None, optimizer=None, feature_columns=[_RealValuedColumn(column_name='crim', dimension=1, default_value=None, dtype=tf.float32, normalizer=None), _RealValuedColumn(column_name='zn', dimension=1, default_value=None, dtype=tf.float32, normalizer=None), _RealValuedColumn(column_name='indus', dimension=1, default_value=None, dtype=tf.float32, normalizer=None), _RealValuedColumn(column_name='nox', dimension=1, default_value=None, dtype=tf.float32, normalizer=None), _RealValuedColumn(column_name='rm', dimension=1, default_value=None, dtype=tf.float32, normalizer=None), _RealValuedColumn(column_name='age', dimension=1, default_value=None, dtype=tf.float32, normalizer=None), _RealValuedColumn(column_name='dis', dimension=1, default_value=None, dtype=tf.float32, normalizer=None), _RealValuedColumn(column_name='tax', dimension=1, default_value=None, dtype=tf.float32, normalizer=None), _RealValuedColumn(column_name='ptratio', dimension=1, default_value=None, dtype=tf.float32, normalizer=None)])"
      ]
     },
     "execution_count": 7,
     "metadata": {},
     "output_type": "execute_result"
    }
   ],
   "source": [
    "regressor.fit(input_fn=lambda: input_fn(tr_set), steps=5000)"
   ]
  },
  {
   "cell_type": "code",
   "execution_count": 9,
   "metadata": {},
   "outputs": [
    {
     "name": "stdout",
     "output_type": "stream",
     "text": [
      "WARNING:tensorflow:Rank of input Tensor (1) should be the same as output_rank (2) for column. Will attempt to expand dims. It is highly recommended that you resize your input, as this behavior may change.\n",
      "WARNING:tensorflow:Rank of input Tensor (1) should be the same as output_rank (2) for column. Will attempt to expand dims. It is highly recommended that you resize your input, as this behavior may change.\n",
      "WARNING:tensorflow:Rank of input Tensor (1) should be the same as output_rank (2) for column. Will attempt to expand dims. It is highly recommended that you resize your input, as this behavior may change.\n",
      "WARNING:tensorflow:Rank of input Tensor (1) should be the same as output_rank (2) for column. Will attempt to expand dims. It is highly recommended that you resize your input, as this behavior may change.\n",
      "WARNING:tensorflow:Rank of input Tensor (1) should be the same as output_rank (2) for column. Will attempt to expand dims. It is highly recommended that you resize your input, as this behavior may change.\n",
      "WARNING:tensorflow:Rank of input Tensor (1) should be the same as output_rank (2) for column. Will attempt to expand dims. It is highly recommended that you resize your input, as this behavior may change.\n",
      "WARNING:tensorflow:Rank of input Tensor (1) should be the same as output_rank (2) for column. Will attempt to expand dims. It is highly recommended that you resize your input, as this behavior may change.\n",
      "WARNING:tensorflow:Rank of input Tensor (1) should be the same as output_rank (2) for column. Will attempt to expand dims. It is highly recommended that you resize your input, as this behavior may change.\n",
      "WARNING:tensorflow:Rank of input Tensor (1) should be the same as output_rank (2) for column. Will attempt to expand dims. It is highly recommended that you resize your input, as this behavior may change.\n",
      "INFO:tensorflow:Summary name dnn/hiddenlayer_0:fraction_of_zero_values is illegal; using dnn/hiddenlayer_0_fraction_of_zero_values instead.\n",
      "INFO:tensorflow:Summary name dnn/hiddenlayer_0:activation is illegal; using dnn/hiddenlayer_0_activation instead.\n",
      "INFO:tensorflow:Summary name dnn/hiddenlayer_1:fraction_of_zero_values is illegal; using dnn/hiddenlayer_1_fraction_of_zero_values instead.\n",
      "INFO:tensorflow:Summary name dnn/hiddenlayer_1:activation is illegal; using dnn/hiddenlayer_1_activation instead.\n",
      "INFO:tensorflow:Summary name logits:fraction_of_zero_values is illegal; using logits_fraction_of_zero_values instead.\n",
      "INFO:tensorflow:Summary name logits:activation is illegal; using logits_activation instead.\n",
      "INFO:tensorflow:Restored model from /tmp/tmpeMv5iL\n",
      "INFO:tensorflow:Eval steps [0,1) for training step 5000.\n",
      "INFO:tensorflow:Saving evaluation summary for step 5000: loss = 19.478\n",
      "{'loss': 19.478024, 'global_step': 5000}\n"
     ]
    }
   ],
   "source": [
    "ev = regressor.evaluate(input_fn=lambda: input_fn(ts_set), steps=1)\n",
    "print(ev)"
   ]
  },
  {
   "cell_type": "code",
   "execution_count": null,
   "metadata": {},
   "outputs": [
    {
     "name": "stdout",
     "output_type": "stream",
     "text": [
      "WARNING:tensorflow:From /usr/local/lib/python2.7/dist-packages/tensorflow/contrib/learn/python/learn/estimators/dnn_linear_combined.py:1053 in predict.: calling predict (from tensorflow.contrib.learn.python.learn.estimators.estimator) with x is deprecated and will be removed after 2016-12-01.\n",
      "Instructions for updating:\n",
      "Estimator is decoupled from Scikit Learn interface by moving into\n",
      "separate class SKCompat. Arguments x, y and batch_size are only\n",
      "available in the SKCompat class, Estimator will only accept input_fn.\n",
      "Example conversion:\n",
      "  est = Estimator(...) -> est = SKCompat(Estimator(...))\n",
      "WARNING:tensorflow:From /usr/local/lib/python2.7/dist-packages/tensorflow/contrib/learn/python/learn/estimators/dnn_linear_combined.py:1053 in predict.: calling predict (from tensorflow.contrib.learn.python.learn.estimators.estimator) with batch_size is deprecated and will be removed after 2016-12-01.\n",
      "Instructions for updating:\n",
      "Estimator is decoupled from Scikit Learn interface by moving into\n",
      "separate class SKCompat. Arguments x, y and batch_size are only\n",
      "available in the SKCompat class, Estimator will only accept input_fn.\n",
      "Example conversion:\n",
      "  est = Estimator(...) -> est = SKCompat(Estimator(...))\n",
      "WARNING:tensorflow:From /usr/local/lib/python2.7/dist-packages/tensorflow/contrib/learn/python/learn/estimators/dnn_linear_combined.py:1053 in predict.: calling predict (from tensorflow.contrib.learn.python.learn.estimators.estimator) with as_iterable is deprecated and will be removed after 2016-12-01.\n",
      "Instructions for updating:\n",
      "Estimator is decoupled from Scikit Learn interface by moving into\n",
      "separate class SKCompat. Arguments x, y and batch_size are only\n",
      "available in the SKCompat class, Estimator will only accept input_fn.\n",
      "Example conversion:\n",
      "  est = Estimator(...) -> est = SKCompat(Estimator(...))\n",
      "WARNING:tensorflow:Rank of input Tensor (1) should be the same as output_rank (2) for column. Will attempt to expand dims. It is highly recommended that you resize your input, as this behavior may change.\n",
      "WARNING:tensorflow:Rank of input Tensor (1) should be the same as output_rank (2) for column. Will attempt to expand dims. It is highly recommended that you resize your input, as this behavior may change.\n",
      "WARNING:tensorflow:Rank of input Tensor (1) should be the same as output_rank (2) for column. Will attempt to expand dims. It is highly recommended that you resize your input, as this behavior may change.\n",
      "WARNING:tensorflow:Rank of input Tensor (1) should be the same as output_rank (2) for column. Will attempt to expand dims. It is highly recommended that you resize your input, as this behavior may change.\n",
      "WARNING:tensorflow:Rank of input Tensor (1) should be the same as output_rank (2) for column. Will attempt to expand dims. It is highly recommended that you resize your input, as this behavior may change.\n",
      "WARNING:tensorflow:Rank of input Tensor (1) should be the same as output_rank (2) for column. Will attempt to expand dims. It is highly recommended that you resize your input, as this behavior may change.\n",
      "WARNING:tensorflow:Rank of input Tensor (1) should be the same as output_rank (2) for column. Will attempt to expand dims. It is highly recommended that you resize your input, as this behavior may change.\n",
      "WARNING:tensorflow:Rank of input Tensor (1) should be the same as output_rank (2) for column. Will attempt to expand dims. It is highly recommended that you resize your input, as this behavior may change.\n",
      "WARNING:tensorflow:Rank of input Tensor (1) should be the same as output_rank (2) for column. Will attempt to expand dims. It is highly recommended that you resize your input, as this behavior may change.\n",
      "INFO:tensorflow:Summary name dnn/hiddenlayer_0:fraction_of_zero_values is illegal; using dnn/hiddenlayer_0_fraction_of_zero_values instead.\n",
      "INFO:tensorflow:Summary name dnn/hiddenlayer_0:activation is illegal; using dnn/hiddenlayer_0_activation instead.\n",
      "INFO:tensorflow:Summary name dnn/hiddenlayer_1:fraction_of_zero_values is illegal; using dnn/hiddenlayer_1_fraction_of_zero_values instead.\n",
      "INFO:tensorflow:Summary name dnn/hiddenlayer_1:activation is illegal; using dnn/hiddenlayer_1_activation instead.\n",
      "INFO:tensorflow:Summary name logits:fraction_of_zero_values is illegal; using logits_fraction_of_zero_values instead.\n",
      "INFO:tensorflow:Summary name logits:activation is illegal; using logits_activation instead.\n",
      "INFO:tensorflow:Loading model from checkpoint: /tmp/tmpeMv5iL/model.ckpt-5000-?????-of-00001.\n"
     ]
    }
   ],
   "source": [
    "y = regressor.predict(input_fn=lambda: input_fn(pr_set))\n",
    "print(list(y))"
   ]
  },
  {
   "cell_type": "code",
   "execution_count": null,
   "metadata": {
    "collapsed": true
   },
   "outputs": [],
   "source": []
  }
 ],
 "metadata": {
  "kernelspec": {
   "display_name": "Python 2",
   "language": "python",
   "name": "python2"
  },
  "language_info": {
   "codemirror_mode": {
    "name": "ipython",
    "version": 2
   },
   "file_extension": ".py",
   "mimetype": "text/x-python",
   "name": "python",
   "nbconvert_exporter": "python",
   "pygments_lexer": "ipython2",
   "version": "2.7.12"
  }
 },
 "nbformat": 4,
 "nbformat_minor": 2
}
