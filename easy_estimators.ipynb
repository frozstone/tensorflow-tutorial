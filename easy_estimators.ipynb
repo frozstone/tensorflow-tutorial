{
 "cells": [
  {
   "cell_type": "code",
   "execution_count": 10,
   "metadata": {
    "scrolled": true
   },
   "outputs": [],
   "source": [
    "from __future__ import absolute_import\n",
    "from __future__ import division\n",
    "\n",
    "import tempfile\n",
    "import urllib\n",
    "\n",
    "import numpy as np\n",
    "import tensorflow as tf"
   ]
  },
  {
   "cell_type": "code",
   "execution_count": 11,
   "metadata": {
    "collapsed": true,
    "scrolled": true
   },
   "outputs": [],
   "source": [
    "tf.logging.set_verbosity(tf.logging.INFO)\n",
    "LEARNING_RATE = 0.001"
   ]
  },
  {
   "cell_type": "code",
   "execution_count": 12,
   "metadata": {
    "collapsed": true,
    "scrolled": true
   },
   "outputs": [],
   "source": [
    "def model_fn(features, targets, mode, params):\n",
    "    #1. Configure the model via TF ops\n",
    "    #2. Define the loss function for training/eval\n",
    "    #3. Define the training operation/optimizer (i.e. to minimize the loss function)\n",
    "    #4. Generate predictions\n",
    "    \n",
    "    first_hidden_layer = tf.contrib.layers.relu(features, 10)\n",
    "    second_hidden_layer = tf.contrib.layers.relu(first_hidden_layer, 10)\n",
    "    output_layer = tf.contrib.layers.linear(second_hidden_layer, 1)\n",
    "    \n",
    "    predictions = tf.reshape(output_layer, [-1])\n",
    "    predictions_dict = {\"age\": predictions}\n",
    "    \n",
    "    #Calaculate the loss\n",
    "    loss = tf.contrib.losses.mean_squared_error(predictions, targets)\n",
    "    \n",
    "    #Define the training op.\n",
    "    train_op = tf.contrib.layers.optimize_loss(loss=loss,\n",
    "                                               global_step=tf.contrib.framework.get_global_step(),\n",
    "                                               learning_rate=params[\"learning_rate\"],\n",
    "                                               optimizer=\"SGD\")\n",
    "    \n",
    "    return predictions, loss, train_op"
   ]
  },
  {
   "cell_type": "code",
   "execution_count": 31,
   "metadata": {
    "collapsed": true,
    "scrolled": true
   },
   "outputs": [],
   "source": [
    "def main(unused_argv):\n",
    "    tr_set = tf.contrib.learn.datasets.base.load_csv_without_header(filename=\"dataset/abalone_train.csv\", target_dtype=np.int, features_dtype=np.float64)\n",
    "    ts_set = tf.contrib.learn.datasets.base.load_csv_without_header(filename=\"dataset/abalone_test.csv\", target_dtype=np.int, features_dtype=np.float64)\n",
    "    pr_set = tf.contrib.learn.datasets.base.load_csv_without_header(filename=\"dataset/abalone_predict.csv\", target_dtype=np.int, features_dtype=np.float64)\n",
    "    \n",
    "    model_params = {\"learning_rate\": LEARNING_RATE}\n",
    "    nn = tf.contrib.learn.Estimator(model_fn=model_fn, params=model_params)\n",
    "    nn.fit(x=tr_set.data, y=tr_set.target, steps=100)\n",
    "    \n",
    "    ev = nn.evaluate(x=ts_set.data, y=ts_set.target, steps=1)\n",
    "    loss_score = ev[\"loss\"]\n",
    "    print loss_score\n",
    "    \n",
    "    #Print out predictions\n",
    "    predictions = nn.predict(x=pr_set.data, as_iterable=True)\n",
    "    for i,p in enumerate(predictions): print i, p\n",
    "    \n",
    "    return 1\n",
    "    "
   ]
  },
  {
   "cell_type": "code",
   "execution_count": 32,
   "metadata": {
    "scrolled": true
   },
   "outputs": [
    {
     "name": "stdout",
     "output_type": "stream",
     "text": [
      "WARNING:tensorflow:Using temporary folder as model directory: /tmp/tmp5UoLck\n",
      "INFO:tensorflow:Using default config.\n",
      "INFO:tensorflow:Using config: {'save_summary_steps': 100, '_num_ps_replicas': 0, '_task_type': None, '_environment': 'local', '_is_chief': True, 'save_checkpoints_secs': 600, '_cluster_spec': <tensorflow.python.training.server_lib.ClusterSpec object at 0x7fe20246ce90>, 'tf_config': gpu_options {\n",
      "  per_process_gpu_memory_fraction: 1.0\n",
      "}\n",
      ", '_task_id': 0, 'tf_random_seed': None, 'keep_checkpoint_every_n_hours': 10000, '_evaluation_master': '', 'save_checkpoints_steps': None, '_master': '', 'keep_checkpoint_max': 5}\n",
      "WARNING:tensorflow:From <ipython-input-31-8a2a275da4b1>:8 in main.: calling fit (from tensorflow.contrib.learn.python.learn.estimators.estimator) with x is deprecated and will be removed after 2016-12-01.\n",
      "Instructions for updating:\n",
      "Estimator is decoupled from Scikit Learn interface by moving into\n",
      "separate class SKCompat. Arguments x, y and batch_size are only\n",
      "available in the SKCompat class, Estimator will only accept input_fn.\n",
      "Example conversion:\n",
      "  est = Estimator(...) -> est = SKCompat(Estimator(...))\n",
      "WARNING:tensorflow:From <ipython-input-31-8a2a275da4b1>:8 in main.: calling fit (from tensorflow.contrib.learn.python.learn.estimators.estimator) with y is deprecated and will be removed after 2016-12-01.\n",
      "Instructions for updating:\n",
      "Estimator is decoupled from Scikit Learn interface by moving into\n",
      "separate class SKCompat. Arguments x, y and batch_size are only\n",
      "available in the SKCompat class, Estimator will only accept input_fn.\n",
      "Example conversion:\n",
      "  est = Estimator(...) -> est = SKCompat(Estimator(...))\n",
      "WARNING:tensorflow:float64 is not supported by many models, consider casting to float32.\n",
      "INFO:tensorflow:Create CheckpointSaverHook.\n",
      "INFO:tensorflow:loss = 110.921, step = 1\n",
      "INFO:tensorflow:Saving checkpoints for 1 into /tmp/tmp5UoLck/model.ckpt.\n",
      "WARNING:tensorflow:*******************************************************\n",
      "WARNING:tensorflow:TensorFlow's V1 checkpoint format has been deprecated.\n",
      "WARNING:tensorflow:Consider switching to the more efficient V2 format:\n",
      "WARNING:tensorflow:   `tf.train.Saver(write_version=tf.train.SaverDef.V2)`\n",
      "WARNING:tensorflow:now on by default.\n",
      "WARNING:tensorflow:*******************************************************\n",
      "INFO:tensorflow:Saving checkpoints for 100 into /tmp/tmp5UoLck/model.ckpt.\n",
      "WARNING:tensorflow:*******************************************************\n",
      "WARNING:tensorflow:TensorFlow's V1 checkpoint format has been deprecated.\n",
      "WARNING:tensorflow:Consider switching to the more efficient V2 format:\n",
      "WARNING:tensorflow:   `tf.train.Saver(write_version=tf.train.SaverDef.V2)`\n",
      "WARNING:tensorflow:now on by default.\n",
      "WARNING:tensorflow:*******************************************************\n",
      "INFO:tensorflow:Loss for final step: 47.2274.\n",
      "WARNING:tensorflow:From <ipython-input-31-8a2a275da4b1>:10 in main.: calling evaluate (from tensorflow.contrib.learn.python.learn.estimators.estimator) with x is deprecated and will be removed after 2016-12-01.\n",
      "Instructions for updating:\n",
      "Estimator is decoupled from Scikit Learn interface by moving into\n",
      "separate class SKCompat. Arguments x, y and batch_size are only\n",
      "available in the SKCompat class, Estimator will only accept input_fn.\n",
      "Example conversion:\n",
      "  est = Estimator(...) -> est = SKCompat(Estimator(...))\n",
      "WARNING:tensorflow:From <ipython-input-31-8a2a275da4b1>:10 in main.: calling evaluate (from tensorflow.contrib.learn.python.learn.estimators.estimator) with y is deprecated and will be removed after 2016-12-01.\n",
      "Instructions for updating:\n",
      "Estimator is decoupled from Scikit Learn interface by moving into\n",
      "separate class SKCompat. Arguments x, y and batch_size are only\n",
      "available in the SKCompat class, Estimator will only accept input_fn.\n",
      "Example conversion:\n",
      "  est = Estimator(...) -> est = SKCompat(Estimator(...))\n",
      "WARNING:tensorflow:float64 is not supported by many models, consider casting to float32.\n",
      "INFO:tensorflow:Restored model from /tmp/tmp5UoLck\n",
      "INFO:tensorflow:Eval steps [0,1) for training step 100.\n",
      "INFO:tensorflow:Saving evaluation summary for step 100: loss = 47.9976\n",
      "47.9976\n",
      "WARNING:tensorflow:From <ipython-input-31-8a2a275da4b1>:15 in main.: calling predict (from tensorflow.contrib.learn.python.learn.estimators.estimator) with x is deprecated and will be removed after 2016-12-01.\n",
      "Instructions for updating:\n",
      "Estimator is decoupled from Scikit Learn interface by moving into\n",
      "separate class SKCompat. Arguments x, y and batch_size are only\n",
      "available in the SKCompat class, Estimator will only accept input_fn.\n",
      "Example conversion:\n",
      "  est = Estimator(...) -> est = SKCompat(Estimator(...))\n",
      "WARNING:tensorflow:From <ipython-input-31-8a2a275da4b1>:15 in main.: calling predict (from tensorflow.contrib.learn.python.learn.estimators.estimator) with as_iterable is deprecated and will be removed after 2016-12-01.\n",
      "Instructions for updating:\n",
      "Estimator is decoupled from Scikit Learn interface by moving into\n",
      "separate class SKCompat. Arguments x, y and batch_size are only\n",
      "available in the SKCompat class, Estimator will only accept input_fn.\n",
      "Example conversion:\n",
      "  est = Estimator(...) -> est = SKCompat(Estimator(...))\n",
      "WARNING:tensorflow:float64 is not supported by many models, consider casting to float32.\n",
      "7\n",
      "INFO:tensorflow:Loading model from checkpoint: /tmp/tmp5UoLck/model.ckpt-100-?????-of-00001.\n",
      "0 2.9570780583\n",
      "1 3.52905094266\n",
      "2 3.18529501489\n",
      "3 3.65346615912\n",
      "4 4.15186475307\n",
      "5 3.47136824724\n",
      "6 3.83359052668\n"
     ]
    },
    {
     "ename": "SystemExit",
     "evalue": "1",
     "output_type": "error",
     "traceback": [
      "An exception has occurred, use %tb to see the full traceback.\n",
      "\u001b[0;31mSystemExit\u001b[0m\u001b[0;31m:\u001b[0m 1\n"
     ]
    }
   ],
   "source": [
    "if __name__ == \"__main__\":\n",
    "    tf.app.run()"
   ]
  },
  {
   "cell_type": "code",
   "execution_count": null,
   "metadata": {
    "collapsed": true,
    "scrolled": true
   },
   "outputs": [],
   "source": []
  }
 ],
 "metadata": {
  "kernelspec": {
   "display_name": "Python 2",
   "language": "python",
   "name": "python2"
  },
  "language_info": {
   "codemirror_mode": {
    "name": "ipython",
    "version": 2
   },
   "file_extension": ".py",
   "mimetype": "text/x-python",
   "name": "python",
   "nbconvert_exporter": "python",
   "pygments_lexer": "ipython2",
   "version": "2.7.12"
  }
 },
 "nbformat": 4,
 "nbformat_minor": 2
}
